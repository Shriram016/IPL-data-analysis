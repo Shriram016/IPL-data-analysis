{
 "cells": [
  {
   "cell_type": "markdown",
   "metadata": {},
   "source": [
    "# Welcome to Jupyter!"
   ]
  },
  {
   "cell_type": "code",
   "execution_count": null,
   "metadata": {},
   "outputs": [],
   "source": []
  },
  {
   "cell_type": "code",
   "execution_count": 1,
   "metadata": {},
   "outputs": [],
   "source": [
    "import pandas as pd\n",
    "import numpy as np\n",
    "import matplotlib.pyplot as plt\n",
    "import seaborn as sb"
   ]
  },
  {
   "cell_type": "code",
   "execution_count": 2,
   "metadata": {},
   "outputs": [],
   "source": [
    "deliveries_df = pd.read_csv('deliveries.csv')\n",
    "matches_df =  pd.read_csv('matches.csv')"
   ]
  },
  {
   "cell_type": "code",
   "execution_count": 3,
   "metadata": {},
   "outputs": [
    {
     "data": {
      "text/plain": [
       "((179078, 21), (756, 18))"
      ]
     },
     "execution_count": 3,
     "metadata": {},
     "output_type": "execute_result"
    }
   ],
   "source": [
    "deliveries_df.shape,matches_df.shape"
   ]
  },
  {
   "cell_type": "code",
   "execution_count": 4,
   "metadata": {},
   "outputs": [
    {
     "name": "stdout",
     "output_type": "stream",
     "text": [
      "<class 'pandas.core.frame.DataFrame'>\n",
      "RangeIndex: 179078 entries, 0 to 179077\n",
      "Data columns (total 21 columns):\n",
      "match_id            179078 non-null int64\n",
      "inning              179078 non-null int64\n",
      "batting_team        179078 non-null object\n",
      "bowling_team        179078 non-null object\n",
      "over                179078 non-null int64\n",
      "ball                179078 non-null int64\n",
      "batsman             179078 non-null object\n",
      "non_striker         179078 non-null object\n",
      "bowler              179078 non-null object\n",
      "is_super_over       179078 non-null int64\n",
      "wide_runs           179078 non-null int64\n",
      "bye_runs            179078 non-null int64\n",
      "legbye_runs         179078 non-null int64\n",
      "noball_runs         179078 non-null int64\n",
      "penalty_runs        179078 non-null int64\n",
      "batsman_runs        179078 non-null int64\n",
      "extra_runs          179078 non-null int64\n",
      "total_runs          179078 non-null int64\n",
      "player_dismissed    8834 non-null object\n",
      "dismissal_kind      8834 non-null object\n",
      "fielder             6448 non-null object\n",
      "dtypes: int64(13), object(8)\n",
      "memory usage: 28.7+ MB\n",
      "<class 'pandas.core.frame.DataFrame'>\n",
      "RangeIndex: 756 entries, 0 to 755\n",
      "Data columns (total 18 columns):\n",
      "id                 756 non-null int64\n",
      "season             756 non-null int64\n",
      "city               749 non-null object\n",
      "date               756 non-null object\n",
      "team1              756 non-null object\n",
      "team2              756 non-null object\n",
      "toss_winner        756 non-null object\n",
      "toss_decision      756 non-null object\n",
      "result             756 non-null object\n",
      "dl_applied         756 non-null int64\n",
      "winner             752 non-null object\n",
      "win_by_runs        756 non-null int64\n",
      "win_by_wickets     756 non-null int64\n",
      "player_of_match    752 non-null object\n",
      "venue              756 non-null object\n",
      "umpire1            754 non-null object\n",
      "umpire2            754 non-null object\n",
      "umpire3            119 non-null object\n",
      "dtypes: int64(5), object(13)\n",
      "memory usage: 106.4+ KB\n"
     ]
    },
    {
     "data": {
      "text/plain": [
       "(None, None)"
      ]
     },
     "execution_count": 4,
     "metadata": {},
     "output_type": "execute_result"
    }
   ],
   "source": [
    "deliveries_df.info(),matches_df.info()"
   ]
  },
  {
   "cell_type": "markdown",
   "metadata": {},
   "source": [
    "***Top 10 run scorers in IPL***"
   ]
  },
  {
   "cell_type": "code",
   "execution_count": 5,
   "metadata": {},
   "outputs": [
    {
     "data": {
      "text/html": [
       "<div>\n",
       "<style scoped>\n",
       "    .dataframe tbody tr th:only-of-type {\n",
       "        vertical-align: middle;\n",
       "    }\n",
       "\n",
       "    .dataframe tbody tr th {\n",
       "        vertical-align: top;\n",
       "    }\n",
       "\n",
       "    .dataframe thead th {\n",
       "        text-align: right;\n",
       "    }\n",
       "</style>\n",
       "<table border=\"1\" class=\"dataframe\">\n",
       "  <thead>\n",
       "    <tr style=\"text-align: right;\">\n",
       "      <th></th>\n",
       "      <th>batsman</th>\n",
       "      <th>batsman_runs</th>\n",
       "    </tr>\n",
       "  </thead>\n",
       "  <tbody>\n",
       "    <tr>\n",
       "      <th>0</th>\n",
       "      <td>V Kohli</td>\n",
       "      <td>5431</td>\n",
       "    </tr>\n",
       "    <tr>\n",
       "      <th>1</th>\n",
       "      <td>SK Raina</td>\n",
       "      <td>5404</td>\n",
       "    </tr>\n",
       "    <tr>\n",
       "      <th>2</th>\n",
       "      <td>RG Sharma</td>\n",
       "      <td>4912</td>\n",
       "    </tr>\n",
       "    <tr>\n",
       "      <th>3</th>\n",
       "      <td>DA Warner</td>\n",
       "      <td>4726</td>\n",
       "    </tr>\n",
       "    <tr>\n",
       "      <th>4</th>\n",
       "      <td>S Dhawan</td>\n",
       "      <td>4613</td>\n",
       "    </tr>\n",
       "    <tr>\n",
       "      <th>5</th>\n",
       "      <td>CH Gayle</td>\n",
       "      <td>4534</td>\n",
       "    </tr>\n",
       "    <tr>\n",
       "      <th>6</th>\n",
       "      <td>MS Dhoni</td>\n",
       "      <td>4456</td>\n",
       "    </tr>\n",
       "    <tr>\n",
       "      <th>7</th>\n",
       "      <td>RV Uthappa</td>\n",
       "      <td>4435</td>\n",
       "    </tr>\n",
       "    <tr>\n",
       "      <th>8</th>\n",
       "      <td>AB de Villiers</td>\n",
       "      <td>4423</td>\n",
       "    </tr>\n",
       "    <tr>\n",
       "      <th>9</th>\n",
       "      <td>G Gambhir</td>\n",
       "      <td>4223</td>\n",
       "    </tr>\n",
       "  </tbody>\n",
       "</table>\n",
       "</div>"
      ],
      "text/plain": [
       "          batsman  batsman_runs\n",
       "0         V Kohli          5431\n",
       "1        SK Raina          5404\n",
       "2       RG Sharma          4912\n",
       "3       DA Warner          4726\n",
       "4        S Dhawan          4613\n",
       "5        CH Gayle          4534\n",
       "6        MS Dhoni          4456\n",
       "7      RV Uthappa          4435\n",
       "8  AB de Villiers          4423\n",
       "9       G Gambhir          4223"
      ]
     },
     "execution_count": 5,
     "metadata": {},
     "output_type": "execute_result"
    }
   ],
   "source": [
    "data1 = deliveries_df[['batsman','batsman_runs']]\n",
    "data1= data1.groupby('batsman').sum()\n",
    "data1 = data1.sort_values('batsman_runs',ascending=False)[:10].reset_index()\n",
    "data1"
   ]
  },
  {
   "cell_type": "code",
   "execution_count": 6,
   "metadata": {},
   "outputs": [
    {
     "data": {
      "image/png": "[encoded data removed]",
      "text/plain": [
       "<Figure size 576x360 with 1 Axes>"
      ]
     },
     "metadata": {
      "needs_background": "light"
     },
     "output_type": "display_data"
    }
   ],
   "source": [
    "plt.figure(figsize=[8,5]);\n",
    "color=sb.color_palette()[0]\n",
    "sb.barplot(data=data1,x='batsman',y='batsman_runs',color=color);\n",
    "plt.xticks(rotation=30);\n",
    "plt.ylabel('Total Runs');"
   ]
  },
  {
   "cell_type": "code",
   "execution_count": null,
   "metadata": {},
   "outputs": [],
   "source": []
  },
  {
   "cell_type": "markdown",
   "metadata": {},
   "source": [
    "**Top 10 batsman with highest average**"
   ]
  },
  {
   "cell_type": "code",
   "execution_count": 7,
   "metadata": {},
   "outputs": [
    {
     "data": {
      "text/html": [
       "<div>\n",
       "<style scoped>\n",
       "    .dataframe tbody tr th:only-of-type {\n",
       "        vertical-align: middle;\n",
       "    }\n",
       "\n",
       "    .dataframe tbody tr th {\n",
       "        vertical-align: top;\n",
       "    }\n",
       "\n",
       "    .dataframe thead th {\n",
       "        text-align: right;\n",
       "    }\n",
       "</style>\n",
       "<table border=\"1\" class=\"dataframe\">\n",
       "  <thead>\n",
       "    <tr style=\"text-align: right;\">\n",
       "      <th></th>\n",
       "      <th>batsman</th>\n",
       "      <th>batsman_runs</th>\n",
       "      <th>player_dismissed</th>\n",
       "      <th>average</th>\n",
       "    </tr>\n",
       "  </thead>\n",
       "  <tbody>\n",
       "    <tr>\n",
       "      <th>166</th>\n",
       "      <td>J Bairstow</td>\n",
       "      <td>460</td>\n",
       "      <td>8</td>\n",
       "      <td>57.500000</td>\n",
       "    </tr>\n",
       "    <tr>\n",
       "      <th>268</th>\n",
       "      <td>MN van Wyk</td>\n",
       "      <td>167</td>\n",
       "      <td>3</td>\n",
       "      <td>55.666667</td>\n",
       "    </tr>\n",
       "    <tr>\n",
       "      <th>27</th>\n",
       "      <td>AC Voges</td>\n",
       "      <td>181</td>\n",
       "      <td>4</td>\n",
       "      <td>45.250000</td>\n",
       "    </tr>\n",
       "    <tr>\n",
       "      <th>151</th>\n",
       "      <td>HM Amla</td>\n",
       "      <td>577</td>\n",
       "      <td>13</td>\n",
       "      <td>44.384615</td>\n",
       "    </tr>\n",
       "    <tr>\n",
       "      <th>162</th>\n",
       "      <td>Iqbal Abdulla</td>\n",
       "      <td>88</td>\n",
       "      <td>2</td>\n",
       "      <td>44.000000</td>\n",
       "    </tr>\n",
       "    <tr>\n",
       "      <th>104</th>\n",
       "      <td>DA Warner</td>\n",
       "      <td>4726</td>\n",
       "      <td>110</td>\n",
       "      <td>42.963636</td>\n",
       "    </tr>\n",
       "    <tr>\n",
       "      <th>208</th>\n",
       "      <td>KL Rahul</td>\n",
       "      <td>2004</td>\n",
       "      <td>47</td>\n",
       "      <td>42.638298</td>\n",
       "    </tr>\n",
       "    <tr>\n",
       "      <th>272</th>\n",
       "      <td>MS Dhoni</td>\n",
       "      <td>4456</td>\n",
       "      <td>105</td>\n",
       "      <td>42.438095</td>\n",
       "    </tr>\n",
       "    <tr>\n",
       "      <th>85</th>\n",
       "      <td>CH Gayle</td>\n",
       "      <td>4534</td>\n",
       "      <td>109</td>\n",
       "      <td>41.596330</td>\n",
       "    </tr>\n",
       "    <tr>\n",
       "      <th>310</th>\n",
       "      <td>PD Collingwood</td>\n",
       "      <td>203</td>\n",
       "      <td>5</td>\n",
       "      <td>40.600000</td>\n",
       "    </tr>\n",
       "  </tbody>\n",
       "</table>\n",
       "</div>"
      ],
      "text/plain": [
       "            batsman  batsman_runs  player_dismissed    average\n",
       "166      J Bairstow           460                 8  57.500000\n",
       "268      MN van Wyk           167                 3  55.666667\n",
       "27         AC Voges           181                 4  45.250000\n",
       "151         HM Amla           577                13  44.384615\n",
       "162   Iqbal Abdulla            88                 2  44.000000\n",
       "104       DA Warner          4726               110  42.963636\n",
       "208        KL Rahul          2004                47  42.638298\n",
       "272        MS Dhoni          4456               105  42.438095\n",
       "85         CH Gayle          4534               109  41.596330\n",
       "310  PD Collingwood           203                 5  40.600000"
      ]
     },
     "execution_count": 7,
     "metadata": {},
     "output_type": "execute_result"
    }
   ],
   "source": [
    "runs = deliveries_df[['batsman','batsman_runs']].groupby('batsman').sum()\n",
    "dismissals = deliveries_df.player_dismissed.value_counts().to_frame().reset_index()\n",
    "dismissals.rename(columns={'index':'batsman'},inplace=True)\n",
    "avg_data = pd.merge(runs,dismissals,on='batsman')\n",
    "avg_data['average'] = avg_data['batsman_runs']/avg_data['player_dismissed']\n",
    "avg_data= avg_data.sort_values(by='average',ascending=False)\n",
    "avg_10 = avg_data[:10]\n",
    "avg_10"
   ]
  },
  {
   "cell_type": "code",
   "execution_count": 8,
   "metadata": {},
   "outputs": [
    {
     "data": {
      "image/png": "[encoded data removed]",
      "text/plain": [
       "<Figure size 576x360 with 1 Axes>"
      ]
     },
     "metadata": {
      "needs_background": "light"
     },
     "output_type": "display_data"
    }
   ],
   "source": [
    "plt.figure(figsize=[8,5]);\n",
    "color=sb.color_palette()[0]\n",
    "sb.barplot(data=avg_10,x='batsman',y='average',color=color);\n",
    "plt.xticks(rotation=30);\n"
   ]
  },
  {
   "cell_type": "markdown",
   "metadata": {},
   "source": [
    "**Max no. of fifties**"
   ]
  },
  {
   "cell_type": "code",
   "execution_count": 9,
   "metadata": {},
   "outputs": [],
   "source": [
    "fifties = deliveries_df[['match_id','batsman','batsman_runs']]\n",
    "fifties = fifties.groupby(['match_id','batsman']).sum()\n",
    "fifties = fifties[(fifties.batsman_runs > 49) & (fifties.batsman_runs < 100)]\n",
    "fifties = fifties.groupby('batsman').count().sort_values('batsman_runs',ascending=False).reset_index()\n",
    "fifties = fifties[:10]"
   ]
  },
  {
   "cell_type": "code",
   "execution_count": 10,
   "metadata": {},
   "outputs": [
    {
     "data": {
      "text/html": [
       "<div>\n",
       "<style scoped>\n",
       "    .dataframe tbody tr th:only-of-type {\n",
       "        vertical-align: middle;\n",
       "    }\n",
       "\n",
       "    .dataframe tbody tr th {\n",
       "        vertical-align: top;\n",
       "    }\n",
       "\n",
       "    .dataframe thead th {\n",
       "        text-align: right;\n",
       "    }\n",
       "</style>\n",
       "<table border=\"1\" class=\"dataframe\">\n",
       "  <thead>\n",
       "    <tr style=\"text-align: right;\">\n",
       "      <th></th>\n",
       "      <th>batsman</th>\n",
       "      <th>batsman_runs</th>\n",
       "    </tr>\n",
       "  </thead>\n",
       "  <tbody>\n",
       "    <tr>\n",
       "      <th>0</th>\n",
       "      <td>DA Warner</td>\n",
       "      <td>44</td>\n",
       "    </tr>\n",
       "    <tr>\n",
       "      <th>1</th>\n",
       "      <td>V Kohli</td>\n",
       "      <td>38</td>\n",
       "    </tr>\n",
       "    <tr>\n",
       "      <th>2</th>\n",
       "      <td>SK Raina</td>\n",
       "      <td>38</td>\n",
       "    </tr>\n",
       "    <tr>\n",
       "      <th>3</th>\n",
       "      <td>S Dhawan</td>\n",
       "      <td>37</td>\n",
       "    </tr>\n",
       "    <tr>\n",
       "      <th>4</th>\n",
       "      <td>RG Sharma</td>\n",
       "      <td>36</td>\n",
       "    </tr>\n",
       "    <tr>\n",
       "      <th>5</th>\n",
       "      <td>G Gambhir</td>\n",
       "      <td>36</td>\n",
       "    </tr>\n",
       "    <tr>\n",
       "      <th>6</th>\n",
       "      <td>AB de Villiers</td>\n",
       "      <td>34</td>\n",
       "    </tr>\n",
       "    <tr>\n",
       "      <th>7</th>\n",
       "      <td>CH Gayle</td>\n",
       "      <td>28</td>\n",
       "    </tr>\n",
       "    <tr>\n",
       "      <th>8</th>\n",
       "      <td>AM Rahane</td>\n",
       "      <td>27</td>\n",
       "    </tr>\n",
       "    <tr>\n",
       "      <th>9</th>\n",
       "      <td>RV Uthappa</td>\n",
       "      <td>24</td>\n",
       "    </tr>\n",
       "  </tbody>\n",
       "</table>\n",
       "</div>"
      ],
      "text/plain": [
       "          batsman  batsman_runs\n",
       "0       DA Warner            44\n",
       "1         V Kohli            38\n",
       "2        SK Raina            38\n",
       "3        S Dhawan            37\n",
       "4       RG Sharma            36\n",
       "5       G Gambhir            36\n",
       "6  AB de Villiers            34\n",
       "7        CH Gayle            28\n",
       "8       AM Rahane            27\n",
       "9      RV Uthappa            24"
      ]
     },
     "execution_count": 10,
     "metadata": {},
     "output_type": "execute_result"
    }
   ],
   "source": [
    "fifties"
   ]
  },
  {
   "cell_type": "code",
   "execution_count": 11,
   "metadata": {},
   "outputs": [
    {
     "data": {
      "image/png": "[encoded data removed]",
      "text/plain": [
       "<Figure size 576x360 with 1 Axes>"
      ]
     },
     "metadata": {
      "needs_background": "light"
     },
     "output_type": "display_data"
    }
   ],
   "source": [
    "plt.figure(figsize=[8,5]);\n",
    "color=sb.color_palette()[0]\n",
    "sb.barplot(data=fifties,y='batsman',x='batsman_runs',color=color);\n",
    "#plt.xticks(rotation=30);\n",
    "plt.xlabel('no. of fifties');"
   ]
  },
  {
   "cell_type": "markdown",
   "metadata": {},
   "source": [
    "**Max no of hundreds**"
   ]
  },
  {
   "cell_type": "code",
   "execution_count": 12,
   "metadata": {},
   "outputs": [],
   "source": [
    "hundreds = deliveries_df[['match_id','batsman','batsman_runs']]\n",
    "hundreds = hundreds.groupby(['match_id','batsman']).sum()\n",
    "hundreds = hundreds[hundreds.batsman_runs > 99]\n",
    "hundreds = hundreds.groupby('batsman').count().sort_values('batsman_runs',ascending=False).reset_index()\n",
    "hundreds = hundreds[:15]"
   ]
  },
  {
   "cell_type": "code",
   "execution_count": 13,
   "metadata": {},
   "outputs": [
    {
     "data": {
      "text/html": [
       "<div>\n",
       "<style scoped>\n",
       "    .dataframe tbody tr th:only-of-type {\n",
       "        vertical-align: middle;\n",
       "    }\n",
       "\n",
       "    .dataframe tbody tr th {\n",
       "        vertical-align: top;\n",
       "    }\n",
       "\n",
       "    .dataframe thead th {\n",
       "        text-align: right;\n",
       "    }\n",
       "</style>\n",
       "<table border=\"1\" class=\"dataframe\">\n",
       "  <thead>\n",
       "    <tr style=\"text-align: right;\">\n",
       "      <th></th>\n",
       "      <th>batsman</th>\n",
       "      <th>batsman_runs</th>\n",
       "    </tr>\n",
       "  </thead>\n",
       "  <tbody>\n",
       "    <tr>\n",
       "      <th>0</th>\n",
       "      <td>CH Gayle</td>\n",
       "      <td>7</td>\n",
       "    </tr>\n",
       "    <tr>\n",
       "      <th>1</th>\n",
       "      <td>V Kohli</td>\n",
       "      <td>5</td>\n",
       "    </tr>\n",
       "    <tr>\n",
       "      <th>2</th>\n",
       "      <td>SR Watson</td>\n",
       "      <td>4</td>\n",
       "    </tr>\n",
       "    <tr>\n",
       "      <th>3</th>\n",
       "      <td>DA Warner</td>\n",
       "      <td>4</td>\n",
       "    </tr>\n",
       "    <tr>\n",
       "      <th>4</th>\n",
       "      <td>AB de Villiers</td>\n",
       "      <td>3</td>\n",
       "    </tr>\n",
       "    <tr>\n",
       "      <th>5</th>\n",
       "      <td>M Vijay</td>\n",
       "      <td>2</td>\n",
       "    </tr>\n",
       "    <tr>\n",
       "      <th>6</th>\n",
       "      <td>HM Amla</td>\n",
       "      <td>2</td>\n",
       "    </tr>\n",
       "    <tr>\n",
       "      <th>7</th>\n",
       "      <td>SV Samson</td>\n",
       "      <td>2</td>\n",
       "    </tr>\n",
       "    <tr>\n",
       "      <th>8</th>\n",
       "      <td>BB McCullum</td>\n",
       "      <td>2</td>\n",
       "    </tr>\n",
       "    <tr>\n",
       "      <th>9</th>\n",
       "      <td>V Sehwag</td>\n",
       "      <td>2</td>\n",
       "    </tr>\n",
       "    <tr>\n",
       "      <th>10</th>\n",
       "      <td>AM Rahane</td>\n",
       "      <td>2</td>\n",
       "    </tr>\n",
       "    <tr>\n",
       "      <th>11</th>\n",
       "      <td>AC Gilchrist</td>\n",
       "      <td>2</td>\n",
       "    </tr>\n",
       "    <tr>\n",
       "      <th>12</th>\n",
       "      <td>Q de Kock</td>\n",
       "      <td>1</td>\n",
       "    </tr>\n",
       "    <tr>\n",
       "      <th>13</th>\n",
       "      <td>WP Saha</td>\n",
       "      <td>1</td>\n",
       "    </tr>\n",
       "    <tr>\n",
       "      <th>14</th>\n",
       "      <td>ST Jayasuriya</td>\n",
       "      <td>1</td>\n",
       "    </tr>\n",
       "  </tbody>\n",
       "</table>\n",
       "</div>"
      ],
      "text/plain": [
       "           batsman  batsman_runs\n",
       "0         CH Gayle             7\n",
       "1          V Kohli             5\n",
       "2        SR Watson             4\n",
       "3        DA Warner             4\n",
       "4   AB de Villiers             3\n",
       "5          M Vijay             2\n",
       "6          HM Amla             2\n",
       "7        SV Samson             2\n",
       "8      BB McCullum             2\n",
       "9         V Sehwag             2\n",
       "10       AM Rahane             2\n",
       "11    AC Gilchrist             2\n",
       "12       Q de Kock             1\n",
       "13         WP Saha             1\n",
       "14   ST Jayasuriya             1"
      ]
     },
     "execution_count": 13,
     "metadata": {},
     "output_type": "execute_result"
    }
   ],
   "source": [
    "hundreds"
   ]
  },
  {
   "cell_type": "code",
   "execution_count": 14,
   "metadata": {},
   "outputs": [
    {
     "data": {
      "image/png": "[encoded data removed]",
      "text/plain": [
       "<Figure size 576x360 with 1 Axes>"
      ]
     },
     "metadata": {
      "needs_background": "light"
     },
     "output_type": "display_data"
    }
   ],
   "source": [
    "plt.figure(figsize=[8,5]);\n",
    "color=sb.color_palette()[0]\n",
    "sb.barplot(data=hundreds,y='batsman',x='batsman_runs',color=color);\n",
    "#plt.xticks(rotation=30);\n",
    "plt.xlabel('no. of hundreds');"
   ]
  },
  {
   "cell_type": "markdown",
   "metadata": {},
   "source": [
    "**Most fours**"
   ]
  },
  {
   "cell_type": "code",
   "execution_count": 15,
   "metadata": {},
   "outputs": [],
   "source": [
    "fours = deliveries_df[['batsman','batsman_runs']]\n",
    "fours = fours[fours.batsman_runs == 4]\n",
    "fours = fours.groupby('batsman').count()\n",
    "fours =  fours.sort_values('batsman_runs',ascending=False)[:15].reset_index()"
   ]
  },
  {
   "cell_type": "code",
   "execution_count": 16,
   "metadata": {},
   "outputs": [
    {
     "data": {
      "text/html": [
       "<div>\n",
       "<style scoped>\n",
       "    .dataframe tbody tr th:only-of-type {\n",
       "        vertical-align: middle;\n",
       "    }\n",
       "\n",
       "    .dataframe tbody tr th {\n",
       "        vertical-align: top;\n",
       "    }\n",
       "\n",
       "    .dataframe thead th {\n",
       "        text-align: right;\n",
       "    }\n",
       "</style>\n",
       "<table border=\"1\" class=\"dataframe\">\n",
       "  <thead>\n",
       "    <tr style=\"text-align: right;\">\n",
       "      <th></th>\n",
       "      <th>batsman</th>\n",
       "      <th>batsman_runs</th>\n",
       "    </tr>\n",
       "  </thead>\n",
       "  <tbody>\n",
       "    <tr>\n",
       "      <th>0</th>\n",
       "      <td>S Dhawan</td>\n",
       "      <td>524</td>\n",
       "    </tr>\n",
       "    <tr>\n",
       "      <th>1</th>\n",
       "      <td>SK Raina</td>\n",
       "      <td>493</td>\n",
       "    </tr>\n",
       "    <tr>\n",
       "      <th>2</th>\n",
       "      <td>G Gambhir</td>\n",
       "      <td>492</td>\n",
       "    </tr>\n",
       "    <tr>\n",
       "      <th>3</th>\n",
       "      <td>V Kohli</td>\n",
       "      <td>482</td>\n",
       "    </tr>\n",
       "    <tr>\n",
       "      <th>4</th>\n",
       "      <td>DA Warner</td>\n",
       "      <td>458</td>\n",
       "    </tr>\n",
       "    <tr>\n",
       "      <th>5</th>\n",
       "      <td>RV Uthappa</td>\n",
       "      <td>435</td>\n",
       "    </tr>\n",
       "    <tr>\n",
       "      <th>6</th>\n",
       "      <td>RG Sharma</td>\n",
       "      <td>431</td>\n",
       "    </tr>\n",
       "    <tr>\n",
       "      <th>7</th>\n",
       "      <td>AM Rahane</td>\n",
       "      <td>405</td>\n",
       "    </tr>\n",
       "    <tr>\n",
       "      <th>8</th>\n",
       "      <td>CH Gayle</td>\n",
       "      <td>372</td>\n",
       "    </tr>\n",
       "    <tr>\n",
       "      <th>9</th>\n",
       "      <td>PA Patel</td>\n",
       "      <td>365</td>\n",
       "    </tr>\n",
       "    <tr>\n",
       "      <th>10</th>\n",
       "      <td>KD Karthik</td>\n",
       "      <td>357</td>\n",
       "    </tr>\n",
       "    <tr>\n",
       "      <th>11</th>\n",
       "      <td>AB de Villiers</td>\n",
       "      <td>357</td>\n",
       "    </tr>\n",
       "    <tr>\n",
       "      <th>12</th>\n",
       "      <td>SR Watson</td>\n",
       "      <td>344</td>\n",
       "    </tr>\n",
       "    <tr>\n",
       "      <th>13</th>\n",
       "      <td>V Sehwag</td>\n",
       "      <td>334</td>\n",
       "    </tr>\n",
       "    <tr>\n",
       "      <th>14</th>\n",
       "      <td>MS Dhoni</td>\n",
       "      <td>297</td>\n",
       "    </tr>\n",
       "  </tbody>\n",
       "</table>\n",
       "</div>"
      ],
      "text/plain": [
       "           batsman  batsman_runs\n",
       "0         S Dhawan           524\n",
       "1         SK Raina           493\n",
       "2        G Gambhir           492\n",
       "3          V Kohli           482\n",
       "4        DA Warner           458\n",
       "5       RV Uthappa           435\n",
       "6        RG Sharma           431\n",
       "7        AM Rahane           405\n",
       "8         CH Gayle           372\n",
       "9         PA Patel           365\n",
       "10      KD Karthik           357\n",
       "11  AB de Villiers           357\n",
       "12       SR Watson           344\n",
       "13        V Sehwag           334\n",
       "14        MS Dhoni           297"
      ]
     },
     "execution_count": 16,
     "metadata": {},
     "output_type": "execute_result"
    }
   ],
   "source": [
    "fours"
   ]
  },
  {
   "cell_type": "code",
   "execution_count": 17,
   "metadata": {},
   "outputs": [
    {
     "data": {
      "image/png": "[encoded data removed]",
      "text/plain": [
       "<Figure size 576x360 with 1 Axes>"
      ]
     },
     "metadata": {
      "needs_background": "light"
     },
     "output_type": "display_data"
    }
   ],
   "source": [
    "plt.figure(figsize=[8,5]);\n",
    "color=sb.color_palette()[0]\n",
    "sb.barplot(data=fours,y='batsman',x='batsman_runs',color=color);\n",
    "#plt.xticks(rotation=30);\n",
    "plt.xlabel('no. of fours');"
   ]
  },
  {
   "cell_type": "markdown",
   "metadata": {},
   "source": [
    "**Most sixes**"
   ]
  },
  {
   "cell_type": "code",
   "execution_count": 18,
   "metadata": {},
   "outputs": [],
   "source": [
    "sixes = deliveries_df[['batsman','batsman_runs']]\n",
    "sixes = sixes[sixes.batsman_runs == 6]\n",
    "sixes = sixes.groupby('batsman').count()\n",
    "sixes =  sixes.sort_values('batsman_runs',ascending=False)[:15].reset_index()"
   ]
  },
  {
   "cell_type": "code",
   "execution_count": 19,
   "metadata": {},
   "outputs": [
    {
     "data": {
      "image/png": "[encoded data removed]",
      "text/plain": [
       "<Figure size 576x360 with 1 Axes>"
      ]
     },
     "metadata": {
      "needs_background": "light"
     },
     "output_type": "display_data"
    }
   ],
   "source": [
    "plt.figure(figsize=[8,5]);\n",
    "color=sb.color_palette()[0]\n",
    "sb.barplot(data=sixes,y='batsman',x='batsman_runs',color=color);\n",
    "#plt.xticks(rotation=30);\n",
    "plt.xlabel('no. of sixes');"
   ]
  },
  {
   "cell_type": "code",
   "execution_count": null,
   "metadata": {},
   "outputs": [],
   "source": []
  },
  {
   "cell_type": "code",
   "execution_count": null,
   "metadata": {},
   "outputs": [],
   "source": []
  },
  {
   "cell_type": "code",
   "execution_count": null,
   "metadata": {},
   "outputs": [],
   "source": []
  },
  {
   "cell_type": "code",
   "execution_count": null,
   "metadata": {},
   "outputs": [],
   "source": []
  },
  {
   "cell_type": "code",
   "execution_count": null,
   "metadata": {},
   "outputs": [],
   "source": []
  },
  {
   "cell_type": "code",
   "execution_count": null,
   "metadata": {},
   "outputs": [],
   "source": []
  },
  {
   "cell_type": "code",
   "execution_count": null,
   "metadata": {},
   "outputs": [],
   "source": []
  },
  {
   "cell_type": "code",
   "execution_count": null,
   "metadata": {},
   "outputs": [],
   "source": []
  },
  {
   "cell_type": "code",
   "execution_count": null,
   "metadata": {},
   "outputs": [],
   "source": []
  },
  {
   "cell_type": "markdown",
   "metadata": {},
   "source": [
    "**Top 10 wicket takers in IPL**"
   ]
  },
  {
   "cell_type": "code",
   "execution_count": 20,
   "metadata": {},
   "outputs": [
    {
     "data": {
      "text/plain": [
       "caught                   5348\n",
       "bowled                   1581\n",
       "run out                   852\n",
       "lbw                       540\n",
       "stumped                   278\n",
       "caught and bowled         211\n",
       "retired hurt               12\n",
       "hit wicket                 10\n",
       "obstructing the field       2\n",
       "Name: dismissal_kind, dtype: int64"
      ]
     },
     "execution_count": 20,
     "metadata": {},
     "output_type": "execute_result"
    }
   ],
   "source": [
    "deliveries_df.dismissal_kind.value_counts()"
   ]
  },
  {
   "cell_type": "code",
   "execution_count": 21,
   "metadata": {},
   "outputs": [
    {
     "data": {
      "text/html": [
       "<div>\n",
       "<style scoped>\n",
       "    .dataframe tbody tr th:only-of-type {\n",
       "        vertical-align: middle;\n",
       "    }\n",
       "\n",
       "    .dataframe tbody tr th {\n",
       "        vertical-align: top;\n",
       "    }\n",
       "\n",
       "    .dataframe thead th {\n",
       "        text-align: right;\n",
       "    }\n",
       "</style>\n",
       "<table border=\"1\" class=\"dataframe\">\n",
       "  <thead>\n",
       "    <tr style=\"text-align: right;\">\n",
       "      <th></th>\n",
       "      <th>bowler</th>\n",
       "      <th>dismissal_kind</th>\n",
       "    </tr>\n",
       "  </thead>\n",
       "  <tbody>\n",
       "    <tr>\n",
       "      <th>0</th>\n",
       "      <td>SL Malinga</td>\n",
       "      <td>170</td>\n",
       "    </tr>\n",
       "    <tr>\n",
       "      <th>1</th>\n",
       "      <td>A Mishra</td>\n",
       "      <td>156</td>\n",
       "    </tr>\n",
       "    <tr>\n",
       "      <th>2</th>\n",
       "      <td>Harbhajan Singh</td>\n",
       "      <td>149</td>\n",
       "    </tr>\n",
       "    <tr>\n",
       "      <th>3</th>\n",
       "      <td>PP Chawla</td>\n",
       "      <td>149</td>\n",
       "    </tr>\n",
       "    <tr>\n",
       "      <th>4</th>\n",
       "      <td>DJ Bravo</td>\n",
       "      <td>147</td>\n",
       "    </tr>\n",
       "    <tr>\n",
       "      <th>5</th>\n",
       "      <td>B Kumar</td>\n",
       "      <td>133</td>\n",
       "    </tr>\n",
       "    <tr>\n",
       "      <th>6</th>\n",
       "      <td>R Ashwin</td>\n",
       "      <td>125</td>\n",
       "    </tr>\n",
       "    <tr>\n",
       "      <th>7</th>\n",
       "      <td>SP Narine</td>\n",
       "      <td>122</td>\n",
       "    </tr>\n",
       "    <tr>\n",
       "      <th>8</th>\n",
       "      <td>UT Yadav</td>\n",
       "      <td>119</td>\n",
       "    </tr>\n",
       "    <tr>\n",
       "      <th>9</th>\n",
       "      <td>RA Jadeja</td>\n",
       "      <td>108</td>\n",
       "    </tr>\n",
       "  </tbody>\n",
       "</table>\n",
       "</div>"
      ],
      "text/plain": [
       "            bowler  dismissal_kind\n",
       "0       SL Malinga             170\n",
       "1         A Mishra             156\n",
       "2  Harbhajan Singh             149\n",
       "3        PP Chawla             149\n",
       "4         DJ Bravo             147\n",
       "5          B Kumar             133\n",
       "6         R Ashwin             125\n",
       "7        SP Narine             122\n",
       "8         UT Yadav             119\n",
       "9        RA Jadeja             108"
      ]
     },
     "execution_count": 21,
     "metadata": {},
     "output_type": "execute_result"
    }
   ],
   "source": [
    "other_modes =['run out','retired hurt','hit wicket','obstructing the field']\n",
    "data2 = deliveries_df[~deliveries_df.dismissal_kind.isin(other_modes)]\n",
    "data2 = data2[['bowler','dismissal_kind']]\n",
    "data2 = data2.groupby('bowler').count().sort_values('dismissal_kind',ascending=False).reset_index()[:10]\n",
    "data2"
   ]
  },
  {
   "cell_type": "code",
   "execution_count": 22,
   "metadata": {},
   "outputs": [
    {
     "data": {
      "image/png": "[encoded data removed]",
      "text/plain": [
       "<Figure size 576x360 with 1 Axes>"
      ]
     },
     "metadata": {
      "needs_background": "light"
     },
     "output_type": "display_data"
    }
   ],
   "source": [
    "plt.figure(figsize=[8,5]);\n",
    "color=sb.color_palette()[0]\n",
    "sb.barplot(data=data2,x='bowler',y='dismissal_kind',color=color);\n",
    "plt.xticks(rotation=30);\n",
    "plt.ylabel('Total Wickets');"
   ]
  },
  {
   "cell_type": "markdown",
   "metadata": {},
   "source": [
    "**Top 10 bowlers with best average**"
   ]
  },
  {
   "cell_type": "code",
   "execution_count": 23,
   "metadata": {},
   "outputs": [],
   "source": [
    "other_modes =['run out','retired hurt','hit wicket','obstructing the field']\n",
    "wickets = deliveries_df[~deliveries_df.dismissal_kind.isin(other_modes)]\n",
    "wickets = wickets[['bowler','dismissal_kind']]\n",
    "wickets = wickets.groupby('bowler').count()"
   ]
  },
  {
   "cell_type": "code",
   "execution_count": 24,
   "metadata": {},
   "outputs": [
    {
     "name": "stderr",
     "output_type": "stream",
     "text": [
      "/srv/conda/envs/notebook/lib/python3.7/site-packages/ipykernel_launcher.py:3: SettingWithCopyWarning: \n",
      "A value is trying to be set on a copy of a slice from a DataFrame.\n",
      "Try using .loc[row_indexer,col_indexer] = value instead\n",
      "\n",
      "See the caveats in the documentation: http://pandas.pydata.org/pandas-docs/stable/indexing.html#indexing-view-versus-copy\n",
      "  This is separate from the ipykernel package so we can avoid doing imports until\n"
     ]
    },
    {
     "data": {
      "text/html": [
       "<div>\n",
       "<style scoped>\n",
       "    .dataframe tbody tr th:only-of-type {\n",
       "        vertical-align: middle;\n",
       "    }\n",
       "\n",
       "    .dataframe tbody tr th {\n",
       "        vertical-align: top;\n",
       "    }\n",
       "\n",
       "    .dataframe thead th {\n",
       "        text-align: right;\n",
       "    }\n",
       "</style>\n",
       "<table border=\"1\" class=\"dataframe\">\n",
       "  <thead>\n",
       "    <tr style=\"text-align: right;\">\n",
       "      <th></th>\n",
       "      <th>bowler</th>\n",
       "      <th>bowler_runs</th>\n",
       "      <th>dismissal_kind</th>\n",
       "      <th>average</th>\n",
       "    </tr>\n",
       "  </thead>\n",
       "  <tbody>\n",
       "    <tr>\n",
       "      <th>0</th>\n",
       "      <td>K Rabada</td>\n",
       "      <td>576</td>\n",
       "      <td>31</td>\n",
       "      <td>18.580645</td>\n",
       "    </tr>\n",
       "    <tr>\n",
       "      <th>1</th>\n",
       "      <td>DE Bollinger</td>\n",
       "      <td>693</td>\n",
       "      <td>37</td>\n",
       "      <td>18.729730</td>\n",
       "    </tr>\n",
       "    <tr>\n",
       "      <th>2</th>\n",
       "      <td>MF Maharoof</td>\n",
       "      <td>520</td>\n",
       "      <td>27</td>\n",
       "      <td>19.259259</td>\n",
       "    </tr>\n",
       "    <tr>\n",
       "      <th>3</th>\n",
       "      <td>S Gopal</td>\n",
       "      <td>746</td>\n",
       "      <td>38</td>\n",
       "      <td>19.631579</td>\n",
       "    </tr>\n",
       "    <tr>\n",
       "      <th>4</th>\n",
       "      <td>SL Malinga</td>\n",
       "      <td>3379</td>\n",
       "      <td>170</td>\n",
       "      <td>19.876471</td>\n",
       "    </tr>\n",
       "    <tr>\n",
       "      <th>5</th>\n",
       "      <td>MA Starc</td>\n",
       "      <td>693</td>\n",
       "      <td>34</td>\n",
       "      <td>20.382353</td>\n",
       "    </tr>\n",
       "    <tr>\n",
       "      <th>6</th>\n",
       "      <td>Imran Tahir</td>\n",
       "      <td>1616</td>\n",
       "      <td>79</td>\n",
       "      <td>20.455696</td>\n",
       "    </tr>\n",
       "    <tr>\n",
       "      <th>7</th>\n",
       "      <td>NM Coulter-Nile</td>\n",
       "      <td>719</td>\n",
       "      <td>35</td>\n",
       "      <td>20.542857</td>\n",
       "    </tr>\n",
       "    <tr>\n",
       "      <th>8</th>\n",
       "      <td>MR Marsh</td>\n",
       "      <td>414</td>\n",
       "      <td>20</td>\n",
       "      <td>20.700000</td>\n",
       "    </tr>\n",
       "    <tr>\n",
       "      <th>9</th>\n",
       "      <td>AJ Tye</td>\n",
       "      <td>849</td>\n",
       "      <td>39</td>\n",
       "      <td>21.769231</td>\n",
       "    </tr>\n",
       "  </tbody>\n",
       "</table>\n",
       "</div>"
      ],
      "text/plain": [
       "            bowler  bowler_runs  dismissal_kind    average\n",
       "0         K Rabada          576              31  18.580645\n",
       "1     DE Bollinger          693              37  18.729730\n",
       "2      MF Maharoof          520              27  19.259259\n",
       "3          S Gopal          746              38  19.631579\n",
       "4       SL Malinga         3379             170  19.876471\n",
       "5         MA Starc          693              34  20.382353\n",
       "6      Imran Tahir         1616              79  20.455696\n",
       "7  NM Coulter-Nile          719              35  20.542857\n",
       "8         MR Marsh          414              20  20.700000\n",
       "9           AJ Tye          849              39  21.769231"
      ]
     },
     "execution_count": 24,
     "metadata": {},
     "output_type": "execute_result"
    }
   ],
   "source": [
    "wickets = wickets[wickets.dismissal_kind!=0]\n",
    "runs = deliveries_df[['bowler','noball_runs','wide_runs','batsman_runs']]\n",
    "runs['bowler_runs']= runs['noball_runs']+runs['wide_runs']+runs['batsman_runs']\n",
    "runs = runs[['bowler','bowler_runs']].groupby('bowler').sum()\n",
    "bowlers_data = pd.merge(runs,wickets,on='bowler')\n",
    "bowlers_data['average'] = bowlers_data['bowler_runs']/ bowlers_data['dismissal_kind']\n",
    "bowlers_data = bowlers_data[bowlers_data.bowler_runs > 400]\n",
    "bowlers_data= bowlers_data.sort_values(by='average')\n",
    "bowlers_data = bowlers_data[:10]\n",
    "bowlers_data = bowlers_data.reset_index()\n",
    "bowlers_data"
   ]
  },
  {
   "cell_type": "code",
   "execution_count": 25,
   "metadata": {},
   "outputs": [
    {
     "data": {
      "image/png": "[encoded data removed]",
      "text/plain": [
       "<Figure size 576x360 with 1 Axes>"
      ]
     },
     "metadata": {
      "needs_background": "light"
     },
     "output_type": "display_data"
    }
   ],
   "source": [
    "plt.figure(figsize=[8,5]);\n",
    "color=sb.color_palette()[0]\n",
    "sb.barplot(data=bowlers_data,x='bowler',y='average',color=color);\n",
    "plt.xticks(rotation=30);\n"
   ]
  },
  {
   "cell_type": "markdown",
   "metadata": {},
   "source": [
    "**Top 10 players with max no. of catches**"
   ]
  },
  {
   "cell_type": "code",
   "execution_count": 26,
   "metadata": {},
   "outputs": [],
   "source": [
    "catches = deliveries_df[['fielder', 'dismissal_kind']]\n",
    "catches = catches[catches.dismissal_kind == 'caught']\n",
    "catches = catches.groupby('fielder').count()\n",
    "catches = catches.sort_values(by='dismissal_kind',ascending=False)[:10].reset_index()"
   ]
  },
  {
   "cell_type": "code",
   "execution_count": 27,
   "metadata": {},
   "outputs": [
    {
     "data": {
      "image/png": "[encoded data removed]",
      "text/plain": [
       "<Figure size 576x360 with 1 Axes>"
      ]
     },
     "metadata": {
      "needs_background": "light"
     },
     "output_type": "display_data"
    }
   ],
   "source": [
    "plt.figure(figsize=[8,5]);\n",
    "color=sb.color_palette()[0]\n",
    "sb.barplot(data=catches,x='fielder',y='dismissal_kind',color=color);\n",
    "plt.xticks(rotation=30);\n",
    "plt.text(5,110,'* This list includes keepers as well');\n",
    "plt.ylabel('No. of catches');\n",
    "plt.title('Top 10 players with max no. of catches*');"
   ]
  },
  {
   "cell_type": "markdown",
   "metadata": {},
   "source": [
    "**Top 15 bolwers with most no. of dot balls**"
   ]
  },
  {
   "cell_type": "code",
   "execution_count": 28,
   "metadata": {},
   "outputs": [],
   "source": [
    "dots = deliveries_df[['bowler','total_runs']]\n",
    "dots = dots[dots.total_runs == 0]\n",
    "dots= dots.groupby('bowler').count()\n",
    "dots = dots.sort_values(by='total_runs',ascending=False)[:15].reset_index()"
   ]
  },
  {
   "cell_type": "code",
   "execution_count": 29,
   "metadata": {},
   "outputs": [
    {
     "data": {
      "image/png": "[encoded data removed]",
      "text/plain": [
       "<Figure size 576x360 with 1 Axes>"
      ]
     },
     "metadata": {
      "needs_background": "light"
     },
     "output_type": "display_data"
    }
   ],
   "source": [
    "plt.figure(figsize=[8,5]);\n",
    "color=sb.color_palette()[0]\n",
    "sb.barplot(data=dots,y='bowler',x='total_runs',color=color);\n",
    "plt.xticks(rotation=30);\n",
    "plt.xlabel('no. of dot balls');"
   ]
  },
  {
   "cell_type": "code",
   "execution_count": 30,
   "metadata": {},
   "outputs": [],
   "source": [
    "strikerate = deliveries_df[['bowler','ball']]\n",
    "strikerate = strikerate[~(strikerate.ball>6)]\n",
    "strikerate = strikerate.groupby('bowler').count()"
   ]
  },
  {
   "cell_type": "code",
   "execution_count": 31,
   "metadata": {},
   "outputs": [],
   "source": [
    "other_modes =['run out','retired hurt','hit wicket','obstructing the field']\n",
    "wickets = deliveries_df[~deliveries_df.dismissal_kind.isin(other_modes)]\n",
    "wickets = wickets[['bowler','dismissal_kind']]\n",
    "wickets = wickets.groupby('bowler').count()"
   ]
  },
  {
   "cell_type": "code",
   "execution_count": 35,
   "metadata": {},
   "outputs": [
    {
     "name": "stderr",
     "output_type": "stream",
     "text": [
      "/srv/conda/envs/notebook/lib/python3.7/site-packages/ipykernel_launcher.py:3: SettingWithCopyWarning: \n",
      "A value is trying to be set on a copy of a slice from a DataFrame.\n",
      "Try using .loc[row_indexer,col_indexer] = value instead\n",
      "\n",
      "See the caveats in the documentation: http://pandas.pydata.org/pandas-docs/stable/indexing.html#indexing-view-versus-copy\n",
      "  This is separate from the ipykernel package so we can avoid doing imports until\n"
     ]
    }
   ],
   "source": [
    "wickets = wickets[wickets.dismissal_kind!=0]\n",
    "runs = deliveries_df[['bowler','noball_runs','wide_runs','batsman_runs']]\n",
    "runs['bowler_runs']= runs['noball_runs']+runs['wide_runs']+runs['batsman_runs']\n",
    "runs = runs[['bowler','bowler_runs']].groupby('bowler').sum()\n",
    "bowlers_data = pd.merge(runs,wickets,on='bowler')\n",
    "bowlers_data['average'] = bowlers_data['bowler_runs']/ bowlers_data['dismissal_kind']\n",
    "bowlers_data = bowlers_data[bowlers_data.bowler_runs > 400]\n",
    "new = pd.merge(bowlers_data,strikerate,on='bowler')\n",
    "new['s.rate'] = new['ball'] /new['dismissal_kind']\n",
    "new['overs'] = new['ball'] / 6\n",
    "new['econ'] = new['bowler_runs'] / new['overs']"
   ]
  },
  {
   "cell_type": "code",
   "execution_count": 42,
   "metadata": {},
   "outputs": [
    {
     "data": {
      "text/html": [
       "<div>\n",
       "<style scoped>\n",
       "    .dataframe tbody tr th:only-of-type {\n",
       "        vertical-align: middle;\n",
       "    }\n",
       "\n",
       "    .dataframe tbody tr th {\n",
       "        vertical-align: top;\n",
       "    }\n",
       "\n",
       "    .dataframe thead th {\n",
       "        text-align: right;\n",
       "    }\n",
       "</style>\n",
       "<table border=\"1\" class=\"dataframe\">\n",
       "  <thead>\n",
       "    <tr style=\"text-align: right;\">\n",
       "      <th></th>\n",
       "      <th>bowler_runs</th>\n",
       "      <th>dismissal_kind</th>\n",
       "      <th>average</th>\n",
       "      <th>ball</th>\n",
       "      <th>s.rate</th>\n",
       "      <th>overs</th>\n",
       "      <th>econ</th>\n",
       "    </tr>\n",
       "    <tr>\n",
       "      <th>bowler</th>\n",
       "      <th></th>\n",
       "      <th></th>\n",
       "      <th></th>\n",
       "      <th></th>\n",
       "      <th></th>\n",
       "      <th></th>\n",
       "      <th></th>\n",
       "    </tr>\n",
       "  </thead>\n",
       "  <tbody>\n",
       "    <tr>\n",
       "      <th>A Kumble</th>\n",
       "      <td>1058</td>\n",
       "      <td>45</td>\n",
       "      <td>23.511111</td>\n",
       "      <td>966</td>\n",
       "      <td>21.466667</td>\n",
       "      <td>161.000000</td>\n",
       "      <td>6.571429</td>\n",
       "    </tr>\n",
       "    <tr>\n",
       "      <th>A Mishra</th>\n",
       "      <td>3802</td>\n",
       "      <td>156</td>\n",
       "      <td>24.371795</td>\n",
       "      <td>3101</td>\n",
       "      <td>19.878205</td>\n",
       "      <td>516.833333</td>\n",
       "      <td>7.356337</td>\n",
       "    </tr>\n",
       "    <tr>\n",
       "      <th>A Mithun</th>\n",
       "      <td>472</td>\n",
       "      <td>7</td>\n",
       "      <td>67.428571</td>\n",
       "      <td>288</td>\n",
       "      <td>41.142857</td>\n",
       "      <td>48.000000</td>\n",
       "      <td>9.833333</td>\n",
       "    </tr>\n",
       "  </tbody>\n",
       "</table>\n",
       "</div>"
      ],
      "text/plain": [
       "          bowler_runs  dismissal_kind    average  ball     s.rate       overs  \\\n",
       "bowler                                                                          \n",
       "A Kumble         1058              45  23.511111   966  21.466667  161.000000   \n",
       "A Mishra         3802             156  24.371795  3101  19.878205  516.833333   \n",
       "A Mithun          472               7  67.428571   288  41.142857   48.000000   \n",
       "\n",
       "              econ  \n",
       "bowler              \n",
       "A Kumble  6.571429  \n",
       "A Mishra  7.356337  \n",
       "A Mithun  9.833333  "
      ]
     },
     "execution_count": 42,
     "metadata": {},
     "output_type": "execute_result"
    }
   ],
   "source": [
    "new[:3]"
   ]
  },
  {
   "cell_type": "code",
   "execution_count": 44,
   "metadata": {},
   "outputs": [],
   "source": [
    "strike_rate_15 = new.sort_values('s.rate')[:15].reset_index()\n",
    "economy_15 = new.sort_values('econ')[:15].reset_index()"
   ]
  },
  {
   "cell_type": "code",
   "execution_count": 45,
   "metadata": {},
   "outputs": [
    {
     "data": {
      "image/png": "[encoded data removed]",
      "text/plain": [
       "<Figure size 576x360 with 1 Axes>"
      ]
     },
     "metadata": {
      "needs_background": "light"
     },
     "output_type": "display_data"
    }
   ],
   "source": [
    "plt.figure(figsize=[8,5]);\n",
    "color=sb.color_palette()[0]\n",
    "sb.barplot(data=strike_rate_15,y='bowler',x='s.rate',color=color);\n",
    "plt.xticks(rotation=30);\n",
    "plt.xlabel('Strike rate');"
   ]
  },
  {
   "cell_type": "code",
   "execution_count": 46,
   "metadata": {},
   "outputs": [
    {
     "data": {
      "image/png": "[encoded data removed]",
      "text/plain": [
       "<Figure size 576x360 with 1 Axes>"
      ]
     },
     "metadata": {
      "needs_background": "light"
     },
     "output_type": "display_data"
    }
   ],
   "source": [
    "plt.figure(figsize=[8,5]);\n",
    "color=sb.color_palette()[0]\n",
    "sb.barplot(data=economy_15,y='bowler',x='econ',color=color);\n",
    "plt.xticks(rotation=30);\n",
    "plt.xlabel('Economy rate');"
   ]
  },
  {
   "cell_type": "code",
   "execution_count": null,
   "metadata": {},
   "outputs": [],
   "source": []
  },
  {
   "cell_type": "code",
   "execution_count": null,
   "metadata": {},
   "outputs": [],
   "source": []
  },
  {
   "cell_type": "code",
   "execution_count": null,
   "metadata": {},
   "outputs": [],
   "source": []
  },
  {
   "cell_type": "code",
   "execution_count": null,
   "metadata": {},
   "outputs": [],
   "source": []
  }
 ],
 "metadata": {
  "kernelspec": {
   "display_name": "Python 3",
   "language": "python",
   "name": "python3"
  },
  "language_info": {
   "codemirror_mode": {
    "name": "ipython",
    "version": 3
   },
   "file_extension": ".py",
   "mimetype": "text/x-python",
   "name": "python",
   "nbconvert_exporter": "python",
   "pygments_lexer": "ipython3",
   "version": "3.7.3"
  }
 },
 "nbformat": 4,
 "nbformat_minor": 4
}
